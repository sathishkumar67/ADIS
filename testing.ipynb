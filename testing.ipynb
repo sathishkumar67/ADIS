{
 "cells": [
  {
   "cell_type": "code",
   "execution_count": 1,
   "metadata": {},
   "outputs": [],
   "source": [
    "from model import DetectionModel"
   ]
  },
  {
   "cell_type": "code",
   "execution_count": 2,
   "metadata": {},
   "outputs": [
    {
     "name": "stdout",
     "output_type": "stream",
     "text": [
      "Overriding model.yaml nc=80 with nc=10\n",
      "\n",
      "                   from  n    params  module                                       arguments                     \n",
      "  0                  -1  1       464  blocks.Conv                                  [3, 16, 3, 2]                 \n",
      "  1                  -1  1      4672  blocks.Conv                                  [16, 32, 3, 2]                \n",
      "  2                  -1  1      6640  blocks.C3k2                                  [32, 64, 1, False, 0.25]      \n",
      "  3                  -1  1     36992  blocks.Conv                                  [64, 64, 3, 2]                \n",
      "  4                  -1  1     26080  blocks.C3k2                                  [64, 128, 1, False, 0.25]     \n",
      "  5                  -1  1    147712  blocks.Conv                                  [128, 128, 3, 2]              \n",
      "  6                  -1  1     87040  blocks.C3k2                                  [128, 128, 1, True]           \n",
      "  7                  -1  1    295424  blocks.Conv                                  [128, 256, 3, 2]              \n",
      "  8                  -1  1    346112  blocks.C3k2                                  [256, 256, 1, True]           \n",
      "  9                  -1  1    164608  blocks.SPPF                                  [256, 256, 5]                 \n",
      " 10                  -1  1    249728  blocks.C2PSA                                 [256, 256, 1]                 \n",
      " 11                  -1  1         0  torch.nn.modules.upsampling.Upsample         [None, 2, 'nearest']          \n",
      " 12             [-1, 6]  1         0  blocks.Concat                                [1]                           \n",
      " 13                  -1  1    111296  blocks.C3k2                                  [384, 128, 1, False]          \n",
      " 14                  -1  1         0  torch.nn.modules.upsampling.Upsample         [None, 2, 'nearest']          \n",
      " 15             [-1, 4]  1         0  blocks.Concat                                [1]                           \n",
      " 16                  -1  1     32096  blocks.C3k2                                  [256, 64, 1, False]           \n",
      " 17                  -1  1     36992  blocks.Conv                                  [64, 64, 3, 2]                \n",
      " 18            [-1, 13]  1         0  blocks.Concat                                [1]                           \n",
      " 19                  -1  1     86720  blocks.C3k2                                  [192, 128, 1, False]          \n",
      " 20                  -1  1    147712  blocks.Conv                                  [128, 128, 3, 2]              \n",
      " 21            [-1, 10]  1         0  blocks.Concat                                [1]                           \n",
      " 22                  -1  1    378880  blocks.C3k2                                  [384, 256, 1, True]           \n",
      " 23        [16, 19, 22]  1    432622  blocks.Detect                                [10, [64, 128, 256]]          \n",
      "YOLO11n summary: 181 layers, 2,591,790 parameters, 2,591,774 gradients, 6.5 GFLOPs\n",
      "\n"
     ]
    }
   ],
   "source": [
    "detect_model = DetectionModel(cfg=\"config/yolo11n.yaml\", ch=3, nc=10, verbose=True)"
   ]
  },
  {
   "cell_type": "code",
   "execution_count": null,
   "metadata": {},
   "outputs": [],
   "source": []
  }
 ],
 "metadata": {
  "kernelspec": {
   "display_name": "dl",
   "language": "python",
   "name": "python3"
  },
  "language_info": {
   "codemirror_mode": {
    "name": "ipython",
    "version": 3
   },
   "file_extension": ".py",
   "mimetype": "text/x-python",
   "name": "python",
   "nbconvert_exporter": "python",
   "pygments_lexer": "ipython3",
   "version": "3.9.21"
  }
 },
 "nbformat": 4,
 "nbformat_minor": 2
}
