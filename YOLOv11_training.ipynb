{
 "cells": [
  {
   "cell_type": "code",
   "execution_count": null,
   "id": "500d6bfb",
   "metadata": {
    "_cell_guid": "b1076dfc-b9ad-4769-8c92-a6c4dae69d19",
    "_uuid": "8f2839f25d086af736a60e9eeb907d3b93b6e0e5",
    "execution": {
     "iopub.execute_input": "2025-05-06T04:25:57.835806Z",
     "iopub.status.busy": "2025-05-06T04:25:57.835573Z",
     "iopub.status.idle": "2025-05-06T04:27:15.288024Z",
     "shell.execute_reply": "2025-05-06T04:27:15.287286Z"
    },
    "papermill": {
     "duration": 77.458326,
     "end_time": "2025-05-06T04:27:15.289612",
     "exception": false,
     "start_time": "2025-05-06T04:25:57.831286",
     "status": "completed"
    },
    "tags": []
   },
   "outputs": [],
   "source": [
    "# Kaggle / Colab setup script\n",
    "# This cell clones the repository into the notebook environment, moves files\n",
    "# (adjust paths as needed), upgrades pip and installs Python dependencies.\n",
    "# NOTE: These are shell commands (bang `!`) intended for notebook execution.\n",
    "\n",
    "# clone the ADIS repository (adjust URL if using a fork)\n",
    "!git clone https://github.com/sathishkumar67/ADIS.git\n",
    "\n",
    "# move the repository files into the current working directory (adjust if needed)\n",
    "!mv /kaggle/working/ADIS/* /kaggle/working/ # change this path to move files to the current directory\n",
    "\n",
    "# upgrade pip to latest\n",
    "!pip install --upgrade pip\n",
    "\n",
    "# install the required packages from requirements.txt\n",
    "!pip install -r requirements.txt"
   ]
  },
  {
   "cell_type": "code",
   "execution_count": null,
   "id": "9affcca5",
   "metadata": {
    "execution": {
     "iopub.execute_input": "2025-05-06T04:27:15.328863Z",
     "iopub.status.busy": "2025-05-06T04:27:15.328608Z",
     "iopub.status.idle": "2025-05-06T04:27:21.717895Z",
     "shell.execute_reply": "2025-05-06T04:27:21.716957Z"
    },
    "papermill": {
     "duration": 6.410946,
     "end_time": "2025-05-06T04:27:21.719853",
     "exception": false,
     "start_time": "2025-05-06T04:27:15.308907",
     "status": "completed"
    },
    "tags": []
   },
   "outputs": [],
   "source": [
    "# Necessary imports for hyperparameter tuning and dataset handling\n",
    "# - `joblib` is used to load saved Optuna studies (if any)\n",
    "# - `optuna` provides hyperparameter optimization utilities\n",
    "# - `hf_hub_download` downloads datasets/artifacts from the Hugging Face Hub\n",
    "# - `unzip_file` (from utils) extracts the dataset archive with a progress bar\n",
    "# - `YOLO11Model` is the project model wrapper used for training\n",
    "from __future__ import annotations\n",
    "import os\n",
    "import joblib\n",
    "import optuna\n",
    "from huggingface_hub import hf_hub_download\n",
    "from utils import unzip_file\n",
    "from model import YOLO11Model"
   ]
  },
  {
   "cell_type": "code",
   "execution_count": null,
   "id": "a26ea6be",
   "metadata": {
    "execution": {
     "iopub.execute_input": "2025-05-06T04:27:21.779225Z",
     "iopub.status.busy": "2025-05-06T04:27:21.778709Z",
     "iopub.status.idle": "2025-05-06T04:27:21.783928Z",
     "shell.execute_reply": "2025-05-06T04:27:21.783197Z"
    },
    "papermill": {
     "duration": 0.030681,
     "end_time": "2025-05-06T04:27:21.785627",
     "exception": false,
     "start_time": "2025-05-06T04:27:21.754946",
     "status": "completed"
    },
    "tags": []
   },
   "outputs": [],
   "source": [
    "# Define global variables and dataset paths used by the notebook.\n",
    "# Edit these values if your local layout differs.\n",
    "REPO_ID = \"pt-sk/ADIS\"  # Hugging Face repo id for dataset (if used)\n",
    "DATASET_NAME = \"balanced_dataset\"  # dataset archive name (without .zip)\n",
    "FILENAME_IN_REPO = f\"{DATASET_NAME}.zip\"\n",
    "LOCAL_DIR = os.getcwd()  # working directory inside the notebook\n",
    "TRAIN_PATH = f\"{LOCAL_DIR}/{DATASET_NAME}/train\"\n",
    "VAL_PATH = f\"{LOCAL_DIR}/{DATASET_NAME}/val\"\n",
    "TEST_PATH = f\"{LOCAL_DIR}/{DATASET_NAME}/test\"\n",
    "DATASET_PATH = f\"{LOCAL_DIR}/{FILENAME_IN_REPO}\"\n",
    "REPO_TYPE = \"dataset\"\n",
    "NUM_CLASSES = 10\n",
    "# class names corresponding to dataset labels (order matters)\n",
    "CLASSES = ['Cat', 'Cattle', 'Chicken', 'Deer', 'Dog', \"Squirrel\", 'Eagle', 'Goat', 'Rodents', 'Snake']\n",
    "DATA_YAML_FILE = f\"{LOCAL_DIR}/data.yaml\"\n",
    "\n",
    "# Specify which YOLOv11 model weights to use\n",
    "# Options: 'yolo11m.pt', 'yolo11s.pt', 'yolo11n.pt'\n",
    "MODEL_PATH = \"\""
   ]
  },
  {
   "cell_type": "code",
   "execution_count": null,
   "id": "60f1aeb0",
   "metadata": {
    "execution": {
     "iopub.execute_input": "2025-05-06T04:27:21.842682Z",
     "iopub.status.busy": "2025-05-06T04:27:21.841972Z",
     "iopub.status.idle": "2025-05-06T04:28:34.749514Z",
     "shell.execute_reply": "2025-05-06T04:28:34.748580Z"
    },
    "papermill": {
     "duration": 72.939907,
     "end_time": "2025-05-06T04:28:34.750849",
     "exception": false,
     "start_time": "2025-05-06T04:27:21.810942",
     "status": "completed"
    },
    "tags": []
   },
   "outputs": [],
   "source": [
    "# Download the dataset from the Hugging Face Hub and unzip it locally.\n",
    "# This cell uses `hf_hub_download` to fetch the dataset archive and `unzip_file`\n",
    "# (utility in this repository) to extract it with a progress bar.\n",
    "\n",
    "hf_hub_download(repo_id=REPO_ID, filename=FILENAME_IN_REPO, repo_type=REPO_TYPE, local_dir=LOCAL_DIR)\n",
    "\n",
    "# Extract the downloaded archive into the working directory\n",
    "unzip_file(DATASET_PATH, LOCAL_DIR)\n",
    "\n",
    "# Optionally remove the archive to free space\n",
    "os.remove(f\"{LOCAL_DIR}/{DATASET_NAME}.zip\")\n",
    "print(\"deleted dataset.zip\")\n",
    "\n",
    "# Print number of CPU cores available — used to set num_workers for dataloaders/training\n",
    "num_cores = os.cpu_count()\n",
    "print(f\"No of Cores Available: {num_cores}\")"
   ]
  },
  {
   "cell_type": "code",
   "execution_count": null,
   "id": "8f322d44",
   "metadata": {
    "execution": {
     "iopub.execute_input": "2025-05-06T04:28:34.824948Z",
     "iopub.status.busy": "2025-05-06T04:28:34.824698Z",
     "iopub.status.idle": "2025-05-06T04:28:34.829457Z",
     "shell.execute_reply": "2025-05-06T04:28:34.828671Z"
    },
    "papermill": {
     "duration": 0.045417,
     "end_time": "2025-05-06T04:28:34.830573",
     "exception": false,
     "start_time": "2025-05-06T04:28:34.785156",
     "status": "completed"
    },
    "tags": []
   },
   "outputs": [],
   "source": [
    "# Build and write a simple data YAML file that the YOLO training code expects.\n",
    "# The YAML contains paths for train/val/test splits, number of classes (nc) and class names.\n",
    "# Note: the triple-quoted f-string below will expand the variables defined earlier.\n",
    "\n",
    "data_yaml = f\"\"\"\n",
    "train: {TRAIN_PATH}\n",
    "val: {VAL_PATH}\n",
    "test: {TEST_PATH}\n",
    "\n",
    "nc: {NUM_CLASSES}\n",
    "names: {CLASSES}\n",
    "\"\"\"\n",
    "\n",
    "# Persist the data.yaml to disk so model code can read it\n",
    "with open(DATA_YAML_FILE, \"w\") as file:\n",
    "    file.write(data_yaml)\n",
    "    print(\"data yaml file written!.............\")"
   ]
  },
  {
   "cell_type": "code",
   "execution_count": null,
   "id": "83cbc594",
   "metadata": {
    "execution": {
     "iopub.execute_input": "2025-05-06T04:28:34.947554Z",
     "iopub.status.busy": "2025-05-06T04:28:34.946979Z",
     "iopub.status.idle": "2025-05-06T04:28:34.968373Z",
     "shell.execute_reply": "2025-05-06T04:28:34.967556Z"
    },
    "papermill": {
     "duration": 0.059586,
     "end_time": "2025-05-06T04:28:34.970099",
     "exception": false,
     "start_time": "2025-05-06T04:28:34.910513",
     "status": "completed"
    },
    "tags": []
   },
   "outputs": [],
   "source": [
    "# If hyperparameter tuning has been performed previously, load the Optuna study to retrieve best params.\n",
    "# NOTE: `study_path` should point to a joblib-serialized study file (.pkl).\n",
    "study_path = \"\"\n",
    "study = joblib.load(study_path)\n",
    "best_params = study.best_params\n",
    "\n",
    "# If you haven't run tuning, either leave study_path empty or provide a valid path.\n",
    "# When `study_path` is empty this code will raise — it's included as an example of how to load results."
   ]
  },
  {
   "cell_type": "code",
   "execution_count": null,
   "id": "71a6e773",
   "metadata": {
    "execution": {
     "iopub.execute_input": "2025-05-06T04:28:35.070172Z",
     "iopub.status.busy": "2025-05-06T04:28:35.069936Z",
     "iopub.status.idle": "2025-05-06T04:28:35.074071Z",
     "shell.execute_reply": "2025-05-06T04:28:35.073543Z"
    },
    "papermill": {
     "duration": 0.053079,
     "end_time": "2025-05-06T04:28:35.075122",
     "exception": false,
     "start_time": "2025-05-06T04:28:35.022043",
     "status": "completed"
    },
    "tags": []
   },
   "outputs": [],
   "source": [
    "# Configuration dictionary for training. Populate values from tuning or manual choices.\n",
    "# Keys are typical training hyperparameters accepted by the YOLO11Model.train API in this repo.\n",
    "CONFIG_DICT = {\n",
    "\"task\": \"detect\",\n",
    "\"mode\": \"train\",\n",
    "\"bohb\": False,\n",
    "\"custom_callbacks\": None,\n",
    "\"data\": DATA_YAML_FILE,\n",
    "\"batch\": 80, # batch size depending on GPU memory\n",
    "\"imgsz\": 320, # image size depending on your constraints\n",
    "\"save\": True,\n",
    "\"device\": 0,\n",
    "\"workers\": num_cores,\n",
    "\"pretrained\": True,\n",
    "\"optimizer\": \"AdamW\",\n",
    "\"seed\": 42,\n",
    "\"epochs\": 60, # epochs\n",
    "\"warmup_epochs\": 5, # warmup\n",
    "\"patience\": 5,\n",
    "# If you have run tuning, these entries pull tuned values from the study.\n",
    "\"lr0\":best_params[\"lr0\"], # tuned learning rate, if not tuned, use default value or manual value\n",
    "\"lrf\":best_params[\"lrf\"], # tuned final learning rate, if not tuned, use default value or manual value\n",
    "\"weight_decay\":best_params[\"weight_decay\"], # tuned weight decay, if not tuned, use default value or manual value\n",
    "\"warmup_momentum\":best_params[\"warmup_momentum\"], # tuned warmup momentum, if not tuned, use default value or manual value\n",
    "\"momentum\":best_params[\"momentum\"]} # tuned momentum, if not tuned, use default value or manual value"
   ]
  },
  {
   "cell_type": "code",
   "execution_count": null,
   "id": "6431e62f",
   "metadata": {
    "execution": {
     "iopub.execute_input": "2025-05-06T04:28:35.146753Z",
     "iopub.status.busy": "2025-05-06T04:28:35.146149Z",
     "iopub.status.idle": "2025-05-06T08:19:46.236956Z",
     "shell.execute_reply": "2025-05-06T08:19:46.236054Z"
    },
    "papermill": {
     "duration": 13871.125363,
     "end_time": "2025-05-06T08:19:46.238438",
     "exception": false,
     "start_time": "2025-05-06T04:28:35.113075",
     "status": "completed"
    },
    "tags": []
   },
   "outputs": [],
   "source": [
    "# Train the YOLOv11 model using the configuration above.\n",
    "# `MODEL_PATH` can point to pretrained weights or be empty to rely on `pretrained=True`.\n",
    "model = YOLO11Model(MODEL_PATH)\n",
    "# The model's `train` method consumes the CONFIG_DICT keys; ensure they match the model API.\n",
    "model.train(**CONFIG_DICT)"
   ]
  },
  {
   "cell_type": "code",
   "execution_count": null,
   "id": "0f5194ba",
   "metadata": {
    "papermill": {
     "duration": 1.289003,
     "end_time": "2025-05-06T08:19:48.751882",
     "exception": false,
     "start_time": "2025-05-06T08:19:47.462879",
     "status": "completed"
    },
    "tags": []
   },
   "outputs": [],
   "source": [
    "# After training completes, the best performing model weights are typically saved to:\n",
    "# `runs/detect/train/weights/best.pt` — check that path in your training output for the exact location.\n",
    "# You can load that file for inference or to resume training later."
   ]
  }
 ],
 "metadata": {
  "kaggle": {
   "accelerator": "gpu",
   "dataSources": [
    {
     "datasetId": 7295936,
     "sourceId": 11628881,
     "sourceType": "datasetVersion"
    }
   ],
   "isGpuEnabled": true,
   "isInternetEnabled": true,
   "language": "python",
   "sourceType": "notebook"
  },
  "kernelspec": {
   "display_name": "Python 3",
   "language": "python",
   "name": "python3"
  },
  "language_info": {
   "codemirror_mode": {
    "name": "ipython",
    "version": 3
   },
   "file_extension": ".py",
   "mimetype": "text/x-python",
   "name": "python",
   "nbconvert_exporter": "python",
   "pygments_lexer": "ipython3",
   "version": "3.11.11"
  },
  "papermill": {
   "default_parameters": {},
   "duration": 14039.480156,
   "end_time": "2025-05-06T08:19:53.126789",
   "environment_variables": {},
   "exception": null,
   "input_path": "__notebook__.ipynb",
   "output_path": "__notebook__.ipynb",
   "parameters": {},
   "start_time": "2025-05-06T04:25:53.646633",
   "version": "2.6.0"
  },
  "widgets": {
   "application/vnd.jupyter.widget-state+json": {
    "state": {
     "04d5a00e38f14730b4c462a135a2b951": {
      "model_module": "@jupyter-widgets/base",
      "model_module_version": "2.0.0",
      "model_name": "LayoutModel",
      "state": {
       "_model_module": "@jupyter-widgets/base",
       "_model_module_version": "2.0.0",
       "_model_name": "LayoutModel",
       "_view_count": null,
       "_view_module": "@jupyter-widgets/base",
       "_view_module_version": "2.0.0",
       "_view_name": "LayoutView",
       "align_content": null,
       "align_items": null,
       "align_self": null,
       "border_bottom": null,
       "border_left": null,
       "border_right": null,
       "border_top": null,
       "bottom": null,
       "display": null,
       "flex": null,
       "flex_flow": null,
       "grid_area": null,
       "grid_auto_columns": null,
       "grid_auto_flow": null,
       "grid_auto_rows": null,
       "grid_column": null,
       "grid_gap": null,
       "grid_row": null,
       "grid_template_areas": null,
       "grid_template_columns": null,
       "grid_template_rows": null,
       "height": null,
       "justify_content": null,
       "justify_items": null,
       "left": null,
       "margin": null,
       "max_height": null,
       "max_width": null,
       "min_height": null,
       "min_width": null,
       "object_fit": null,
       "object_position": null,
       "order": null,
       "overflow": null,
       "padding": null,
       "right": null,
       "top": null,
       "visibility": null,
       "width": null
      }
     },
     "0d67697f175a4124b0f8d9b310ba9c9a": {
      "model_module": "@jupyter-widgets/controls",
      "model_module_version": "2.0.0",
      "model_name": "ProgressStyleModel",
      "state": {
       "_model_module": "@jupyter-widgets/controls",
       "_model_module_version": "2.0.0",
       "_model_name": "ProgressStyleModel",
       "_view_count": null,
       "_view_module": "@jupyter-widgets/base",
       "_view_module_version": "2.0.0",
       "_view_name": "StyleView",
       "bar_color": null,
       "description_width": ""
      }
     },
     "3914d710869145279088d86cd00e2aac": {
      "model_module": "@jupyter-widgets/base",
      "model_module_version": "2.0.0",
      "model_name": "LayoutModel",
      "state": {
       "_model_module": "@jupyter-widgets/base",
       "_model_module_version": "2.0.0",
       "_model_name": "LayoutModel",
       "_view_count": null,
       "_view_module": "@jupyter-widgets/base",
       "_view_module_version": "2.0.0",
       "_view_name": "LayoutView",
       "align_content": null,
       "align_items": null,
       "align_self": null,
       "border_bottom": null,
       "border_left": null,
       "border_right": null,
       "border_top": null,
       "bottom": null,
       "display": null,
       "flex": null,
       "flex_flow": null,
       "grid_area": null,
       "grid_auto_columns": null,
       "grid_auto_flow": null,
       "grid_auto_rows": null,
       "grid_column": null,
       "grid_gap": null,
       "grid_row": null,
       "grid_template_areas": null,
       "grid_template_columns": null,
       "grid_template_rows": null,
       "height": null,
       "justify_content": null,
       "justify_items": null,
       "left": null,
       "margin": null,
       "max_height": null,
       "max_width": null,
       "min_height": null,
       "min_width": null,
       "object_fit": null,
       "object_position": null,
       "order": null,
       "overflow": null,
       "padding": null,
       "right": null,
       "top": null,
       "visibility": null,
       "width": null
      }
     },
     "47ed56a38b754fe5bbb1c74bcf8a9ca1": {
      "model_module": "@jupyter-widgets/controls",
      "model_module_version": "2.0.0",
      "model_name": "HBoxModel",
      "state": {
       "_dom_classes": [],
       "_model_module": "@jupyter-widgets/controls",
       "_model_module_version": "2.0.0",
       "_model_name": "HBoxModel",
       "_view_count": null,
       "_view_module": "@jupyter-widgets/controls",
       "_view_module_version": "2.0.0",
       "_view_name": "HBoxView",
       "box_style": "",
       "children": [
        "IPY_MODEL_8b6fcb17ca2e483da9e8a4f4684e09b0",
        "IPY_MODEL_5d5f70d66e2a41ba94e770411ad1c129",
        "IPY_MODEL_d62eb56203e94816bc142c6e6b2a91ef"
       ],
       "layout": "IPY_MODEL_3914d710869145279088d86cd00e2aac",
       "tabbable": null,
       "tooltip": null
      }
     },
     "4846ca4054c14158ad1dc1c68d8d85c3": {
      "model_module": "@jupyter-widgets/controls",
      "model_module_version": "2.0.0",
      "model_name": "HTMLStyleModel",
      "state": {
       "_model_module": "@jupyter-widgets/controls",
       "_model_module_version": "2.0.0",
       "_model_name": "HTMLStyleModel",
       "_view_count": null,
       "_view_module": "@jupyter-widgets/base",
       "_view_module_version": "2.0.0",
       "_view_name": "StyleView",
       "background": null,
       "description_width": "",
       "font_size": null,
       "text_color": null
      }
     },
     "5d5f70d66e2a41ba94e770411ad1c129": {
      "model_module": "@jupyter-widgets/controls",
      "model_module_version": "2.0.0",
      "model_name": "FloatProgressModel",
      "state": {
       "_dom_classes": [],
       "_model_module": "@jupyter-widgets/controls",
       "_model_module_version": "2.0.0",
       "_model_name": "FloatProgressModel",
       "_view_count": null,
       "_view_module": "@jupyter-widgets/controls",
       "_view_module_version": "2.0.0",
       "_view_name": "ProgressView",
       "bar_style": "success",
       "description": "",
       "description_allow_html": false,
       "layout": "IPY_MODEL_f15f2e9936574ecc8363e669f847e189",
       "max": 7041638232,
       "min": 0,
       "orientation": "horizontal",
       "style": "IPY_MODEL_0d67697f175a4124b0f8d9b310ba9c9a",
       "tabbable": null,
       "tooltip": null,
       "value": 7041638232
      }
     },
     "6d6bef81360944c7a49c337d5967be77": {
      "model_module": "@jupyter-widgets/base",
      "model_module_version": "2.0.0",
      "model_name": "LayoutModel",
      "state": {
       "_model_module": "@jupyter-widgets/base",
       "_model_module_version": "2.0.0",
       "_model_name": "LayoutModel",
       "_view_count": null,
       "_view_module": "@jupyter-widgets/base",
       "_view_module_version": "2.0.0",
       "_view_name": "LayoutView",
       "align_content": null,
       "align_items": null,
       "align_self": null,
       "border_bottom": null,
       "border_left": null,
       "border_right": null,
       "border_top": null,
       "bottom": null,
       "display": null,
       "flex": null,
       "flex_flow": null,
       "grid_area": null,
       "grid_auto_columns": null,
       "grid_auto_flow": null,
       "grid_auto_rows": null,
       "grid_column": null,
       "grid_gap": null,
       "grid_row": null,
       "grid_template_areas": null,
       "grid_template_columns": null,
       "grid_template_rows": null,
       "height": null,
       "justify_content": null,
       "justify_items": null,
       "left": null,
       "margin": null,
       "max_height": null,
       "max_width": null,
       "min_height": null,
       "min_width": null,
       "object_fit": null,
       "object_position": null,
       "order": null,
       "overflow": null,
       "padding": null,
       "right": null,
       "top": null,
       "visibility": null,
       "width": null
      }
     },
     "7f7024f9d4f84e37953c59fd03c5984a": {
      "model_module": "@jupyter-widgets/controls",
      "model_module_version": "2.0.0",
      "model_name": "HTMLStyleModel",
      "state": {
       "_model_module": "@jupyter-widgets/controls",
       "_model_module_version": "2.0.0",
       "_model_name": "HTMLStyleModel",
       "_view_count": null,
       "_view_module": "@jupyter-widgets/base",
       "_view_module_version": "2.0.0",
       "_view_name": "StyleView",
       "background": null,
       "description_width": "",
       "font_size": null,
       "text_color": null
      }
     },
     "8b6fcb17ca2e483da9e8a4f4684e09b0": {
      "model_module": "@jupyter-widgets/controls",
      "model_module_version": "2.0.0",
      "model_name": "HTMLModel",
      "state": {
       "_dom_classes": [],
       "_model_module": "@jupyter-widgets/controls",
       "_model_module_version": "2.0.0",
       "_model_name": "HTMLModel",
       "_view_count": null,
       "_view_module": "@jupyter-widgets/controls",
       "_view_module_version": "2.0.0",
       "_view_name": "HTMLView",
       "description": "",
       "description_allow_html": false,
       "layout": "IPY_MODEL_6d6bef81360944c7a49c337d5967be77",
       "placeholder": "​",
       "style": "IPY_MODEL_7f7024f9d4f84e37953c59fd03c5984a",
       "tabbable": null,
       "tooltip": null,
       "value": "balanced_dataset.zip: 100%"
      }
     },
     "d62eb56203e94816bc142c6e6b2a91ef": {
      "model_module": "@jupyter-widgets/controls",
      "model_module_version": "2.0.0",
      "model_name": "HTMLModel",
      "state": {
       "_dom_classes": [],
       "_model_module": "@jupyter-widgets/controls",
       "_model_module_version": "2.0.0",
       "_model_name": "HTMLModel",
       "_view_count": null,
       "_view_module": "@jupyter-widgets/controls",
       "_view_module_version": "2.0.0",
       "_view_name": "HTMLView",
       "description": "",
       "description_allow_html": false,
       "layout": "IPY_MODEL_04d5a00e38f14730b4c462a135a2b951",
       "placeholder": "​",
       "style": "IPY_MODEL_4846ca4054c14158ad1dc1c68d8d85c3",
       "tabbable": null,
       "tooltip": null,
       "value": " 7.04G/7.04G [00:29&lt;00:00, 227MB/s]"
      }
     },
     "f15f2e9936574ecc8363e669f847e189": {
      "model_module": "@jupyter-widgets/base",
      "model_module_version": "2.0.0",
      "model_name": "LayoutModel",
      "state": {
       "_model_module": "@jupyter-widgets/base",
       "_model_module_version": "2.0.0",
       "_model_name": "LayoutModel",
       "_view_count": null,
       "_view_module": "@jupyter-widgets/base",
       "_view_module_version": "2.0.0",
       "_view_name": "LayoutView",
       "align_content": null,
       "align_items": null,
       "align_self": null,
       "border_bottom": null,
       "border_left": null,
       "border_right": null,
       "border_top": null,
       "bottom": null,
       "display": null,
       "flex": null,
       "flex_flow": null,
       "grid_area": null,
       "grid_auto_columns": null,
       "grid_auto_flow": null,
       "grid_auto_rows": null,
       "grid_column": null,
       "grid_gap": null,
       "grid_row": null,
       "grid_template_areas": null,
       "grid_template_columns": null,
       "grid_template_rows": null,
       "height": null,
       "justify_content": null,
       "justify_items": null,
       "left": null,
       "margin": null,
       "max_height": null,
       "max_width": null,
       "min_height": null,
       "min_width": null,
       "object_fit": null,
       "object_position": null,
       "order": null,
       "overflow": null,
       "padding": null,
       "right": null,
       "top": null,
       "visibility": null,
       "width": null
      }
     }
    },
    "version_major": 2,
    "version_minor": 0
   }
  }
 },
 "nbformat": 4,
 "nbformat_minor": 5
}
