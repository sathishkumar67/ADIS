{
 "cells": [
  {
   "cell_type": "code",
   "execution_count": null,
   "id": "dYSBqmcuXRQ5",
   "metadata": {
    "executionInfo": {
     "elapsed": 12,
     "status": "ok",
     "timestamp": 1748329492772,
     "user": {
      "displayName": "SATHISH KUMAR (PA2312044010018)",
      "userId": "17387811563510940849"
     },
     "user_tz": -330
    },
    "id": "dYSBqmcuXRQ5"
   },
   "outputs": [],
   "source": [
    "# Colab setup\n",
    "# Enable GPU before running\n",
    "# If you have a GPU available, ensure the runtime is configured to use it before\n",
    "# executing heavy cells. In local Windows PowerShell you may need to install CUDA\n",
    "# and the appropriate GPU drivers; in cloud notebooks select a GPU runtime.\n",
    "# You can check availability in Python with:\n",
    "# import torch; print(torch.cuda.is_available(), torch.cuda.device_count())"
   ]
  },
  {
   "cell_type": "code",
   "execution_count": null,
   "id": "7943c78e",
   "metadata": {
    "colab": {
     "base_uri": "https://localhost:8080/"
    },
    "executionInfo": {
     "elapsed": 99276,
     "status": "ok",
     "timestamp": 1748329592057,
     "user": {
      "displayName": "SATHISH KUMAR (PA2312044010018)",
      "userId": "17387811563510940849"
     },
     "user_tz": -330
    },
    "id": "7943c78e",
    "outputId": "0c4f04d9-b63c-4c51-d5f7-4c15cadd3633"
   },
   "outputs": [],
   "source": [
    "# Repository and dependency setup\n",
    "# This cell clones the repository and installs Python dependencies used by the notebooks.\n",
    "# Note: the `!` prefix runs shell commands in notebook environments (Colab/Jupyter).\n",
    "# On Windows PowerShell you may run the equivalent commands directly in a terminal instead\n",
    "# of using the `!` magic. Review the commands before executing in your environment.\n",
    "# clone the ADIS repository\n",
    "!git clone https://github.com/sathishkumar67/ADIS.git\n",
    "# move the files to the current directory (path used for hosted runtimes)\n",
    "!mv /content/ADIS/* /content/ # change this path as needed to move files to the current directory\n",
    "# upgrade pip to the latest version\n",
    "!pip install --upgrade pip\n",
    "# install the required packages listed in requirements.txt\n",
    "!pip install -r requirements.txt"
   ]
  },
  {
   "cell_type": "code",
   "execution_count": null,
   "id": "e9204f23",
   "metadata": {
    "colab": {
     "base_uri": "https://localhost:8080/"
    },
    "executionInfo": {
     "elapsed": 8806,
     "status": "ok",
     "timestamp": 1748329600868,
     "user": {
      "displayName": "SATHISH KUMAR (PA2312044010018)",
      "userId": "17387811563510940849"
     },
     "user_tz": -330
    },
    "id": "e9204f23",
    "outputId": "553546a7-b644-4066-8587-93dccb1221bb"
   },
   "outputs": [],
   "source": [
    "# Necessary imports\n",
    "# Import only lightweight modules here so the cell runs quickly when inspecting the notebook.\n",
    "# Heavy imports (e.g., torch) are deferred to model code to avoid long import times when\n",
    "# simply reading the notebook.\n",
    "from __future__ import annotations\n",
    "import os\n",
    "from huggingface_hub import hf_hub_download\n",
    "from utils import unzip_file\n",
    "from model import YOLO11Model\n",
    "# `YOLO11Model` is the project's model wrapper; it provides convenience methods for loading\n",
    "# checkpoints and running evaluation/training. See `model.py` for implementation details."
   ]
  },
  {
   "cell_type": "code",
   "execution_count": null,
   "id": "9d11bf54",
   "metadata": {
    "executionInfo": {
     "elapsed": 15,
     "status": "ok",
     "timestamp": 1748329600885,
     "user": {
      "displayName": "SATHISH KUMAR (PA2312044010018)",
      "userId": "17387811563510940849"
     },
     "user_tz": -330
    },
    "id": "9d11bf54"
   },
   "outputs": [],
   "source": [
    "# Local and dataset configuration\n",
    "# Set LOCAL_DIR to the working directory where datasets and models will be stored/loaded.\n",
    "LOCAL_DIR = os.getcwd()\n",
    "\n",
    "# HuggingFace repository identifiers used for dataset and model downloads\n",
    "REPO_ID = \"pt-sk/ADIS\"\n",
    "DATASET_NAME = \"balanced_dataset\"\n",
    "FILENAME_IN_REPO = f\"{DATASET_NAME}.zip\"\n",
    "REPO_TYPE = \"dataset\"\n",
    "MODEL_REPO_TYPE = \"model\"\n",
    "\n",
    "# Data paths: these are assembled from LOCAL_DIR and DATASET_NAME. Ensure the dataset is\n",
    "# extracted into the expected layout (train/val/test).\n",
    "TRAIN_PATH = f\"{LOCAL_DIR}/{DATASET_NAME}/train\"\n",
    "VAL_PATH = f\"{LOCAL_DIR}/{DATASET_NAME}/val\"\n",
    "TEST_PATH = f\"{LOCAL_DIR}/{DATASET_NAME}/test\"\n",
    "DATASET_PATH = f\"{LOCAL_DIR}/{FILENAME_IN_REPO}\"\n",
    "\n",
    "# Dataset metadata\n",
    "NUM_CLASSES = 10\n",
    "CLASSES = ['Cat', 'Cattle', 'Chicken', 'Deer', 'Dog', \"Squirrel\", 'Eagle', 'Goat', 'Rodents', 'Snake']\n",
    "DATA_YAML_FILE = f\"{LOCAL_DIR}/data.yaml\"\n",
    "# The data yaml file written below is used by the model validation/training routines."
   ]
  },
  {
   "cell_type": "code",
   "execution_count": null,
   "id": "cdeb729e",
   "metadata": {
    "colab": {
     "base_uri": "https://localhost:8080/",
     "height": 190,
     "referenced_widgets": [
      "8835f06d816646e386a16e1cb4d7754d",
      "cadc7ca462494a988929ecb80e5426d6",
      "baa11ccf81194fe38af8ea58bf4aca76",
      "fbc1265b4a7e43e9b2c4f285330b5000",
      "76e7379985a34019984e2a4d70f6424c",
      "0fac7fd6db2d4c7eaa274651118f8772",
      "038697e9de3547d4bfe12fc9bdeb0116",
      "a1d7edbf8b5543e9bffbe2bdaf774374",
      "1c45eef81b9d45c285fb0c84fad39832",
      "26080ba4d7bf44ff97072c8c469ac997",
      "cbbacf5c25ba45a4a003412626e579ee"
     ]
    },
    "executionInfo": {
     "elapsed": 187862,
     "status": "ok",
     "timestamp": 1748329788749,
     "user": {
      "displayName": "SATHISH KUMAR (PA2312044010018)",
      "userId": "17387811563510940849"
     },
     "user_tz": -330
    },
    "id": "cdeb729e",
    "outputId": "6f20fbba-5ac1-4322-c50d-fb0ab551d442"
   },
   "outputs": [],
   "source": [
    "# Download and extract the dataset\n",
    "# This cell downloads the dataset archive from the HuggingFace hub and extracts it into LOCAL_DIR.\n",
    "hf_hub_download(repo_id=REPO_ID, filename=FILENAME_IN_REPO, repo_type=REPO_TYPE, local_dir=LOCAL_DIR)\n",
    "# `unzip_file` is a small helper in utils.py that extracts the archive contents into LOCAL_DIR.\n",
    "unzip_file(DATASET_PATH, LOCAL_DIR)\n",
    "\n",
    "# Remove the downloaded archive to save disk space. If the file is already deleted this will error;\n",
    "# ensure you are comfortable with the behavior or guard with `os.path.exists` in interactive runs.\n",
    "os.remove(DATASET_PATH)"
   ]
  },
  {
   "cell_type": "code",
   "execution_count": null,
   "id": "153daa7f",
   "metadata": {
    "executionInfo": {
     "elapsed": 39,
     "status": "ok",
     "timestamp": 1748329793616,
     "user": {
      "displayName": "SATHISH KUMAR (PA2312044010018)",
      "userId": "17387811563510940849"
     },
     "user_tz": -330
    },
    "id": "153daa7f"
   },
   "outputs": [],
   "source": [
    "# Create a data.yaml file used by training/validation routines\n",
    "# The YAML lists train/val/test folders and the class names in the format expected by\n",
    "# the project's validation and training utilities.\n",
    "# split paths for model\n",
    "data_yaml = f\"\"\"\n",
    "train: {TRAIN_PATH}\n",
    "val: {VAL_PATH}\n",
    "test: {TEST_PATH}\n",
    "\n",
    "nc: {NUM_CLASSES}\n",
    "names: {CLASSES}\n",
    "\"\"\"\n",
    "\n",
    "# write data yaml file (this will overwrite an existing file at the same path)\n",
    "with open(DATA_YAML_FILE, \"w\") as file:\n",
    "    file.write(data_yaml)\n",
    "    # The file is now available for model.val(...) and training entrypoints."
   ]
  },
  {
   "cell_type": "markdown",
   "id": "J9jYXl4TFLde",
   "metadata": {
    "id": "J9jYXl4TFLde"
   },
   "source": [
    "## Define which model do you want to evaluate with\n",
    "\n",
    "### Unoptimized Models:\n",
    "  1. yolov11n_without_bohb_tuned_ckpt.pt\n",
    "  2. yolov11s_without_bohb_tuned_ckpt.pt\n",
    "  3. yolov11m_without_bohb_tuned_ckpt.pt\n",
    "\n",
    "### Optimized Models:\n",
    "  1. yolov11n_bohb_tuned_ckpt.pt\n",
    "  2. yolov11s_bohb_tuned_ckpt.pt\n",
    "  3. yolov11m_bohb_tuned_ckpt.pt\n",
    "\n",
    "Enter the model name to download the saved model from huggingface hub\n"
   ]
  },
  {
   "cell_type": "code",
   "execution_count": null,
   "id": "4a846325-c37c-42c4-9e9b-21b01d7621ab",
   "metadata": {
    "executionInfo": {
     "elapsed": 181,
     "status": "ok",
     "timestamp": 1748329903350,
     "user": {
      "displayName": "SATHISH KUMAR (PA2312044010018)",
      "userId": "17387811563510940849"
     },
     "user_tz": -330
    },
    "id": "4a846325-c37c-42c4-9e9b-21b01d7621ab"
   },
   "outputs": [],
   "source": [
    "# Select and download a model checkpoint from HuggingFace hub\n",
    "# Choose one of the available checkpoints listed in the markdown cell above. Do not hardcode\n",
    "# a model variant here if you prefer to set it externally; this variable controls which file\n",
    "# the notebook attempts to download.\n",
    "MODEL_NAME = \"yolov11n_bohb_tuned_ckpt.pt\"\n",
    "\n",
    "# download the model checkpoint into LOCAL_DIR\n",
    "hf_hub_download(repo_id=REPO_ID, filename=MODEL_NAME, repo_type=MODEL_REPO_TYPE, local_dir=LOCAL_DIR)\n",
    "\n",
    "# load the model with the pretrained weights. The YOLO11Model wrapper provides convenience\n",
    "# methods for evaluation and training; see `model.py` for details.\n",
    "model = YOLO11Model(MODEL_NAME, verbose=True)"
   ]
  },
  {
   "cell_type": "markdown",
   "id": "ELOaXqpOGsAc",
   "metadata": {
    "id": "ELOaXqpOGsAc"
   },
   "source": [
    "## Model Evaluation\n",
    "To evaluate the model specify the split that you want to evaluate on. The options are:\n",
    "  1. train\n",
    "  2. val\n",
    "  3. test\n"
   ]
  },
  {
   "cell_type": "code",
   "execution_count": null,
   "id": "c8b8cda2",
   "metadata": {
    "colab": {
     "base_uri": "https://localhost:8080/"
    },
    "executionInfo": {
     "elapsed": 30042,
     "status": "ok",
     "timestamp": 1748330004566,
     "user": {
      "displayName": "SATHISH KUMAR (PA2312044010018)",
      "userId": "17387811563510940849"
     },
     "user_tz": -330
    },
    "id": "c8b8cda2",
    "outputId": "793b5d57-1321-4e4e-ebde-c6f4150f190b"
   },
   "outputs": [],
   "source": [
    "# Evaluate the model on a chosen dataset split\n",
    "# Set SPLIT to one of: 'train', 'val', or 'test' depending on which subset you want to evaluate.\n",
    "SPLIT = \"val\"\n",
    "import time\n",
    "start_time = time.time()\n",
    "# Run the model's validation routine; it expects a data YAML path and a split name.\n",
    "model.val(data=DATA_YAML_FILE, split=SPLIT)\n",
    "print(f\"Time taken to evaluate on {SPLIT} split: {time.time() - start_time} seconds\")"
   ]
  },
  {
   "cell_type": "markdown",
   "id": "8d99f433",
   "metadata": {},
   "source": [
    "## Model Inference"
   ]
  },
  {
   "cell_type": "code",
   "execution_count": null,
   "id": "55e9608d",
   "metadata": {},
   "outputs": [],
   "source": [
    "# Inference on a single image\n",
    "# Specify the path to an image file for running inference. If left blank, no inference\n",
    "image_path = \"\" \n",
    "# Run inference on a single image\n",
    "if image_path:\n",
    "    results = model(image_path)\n",
    "    # display the results\n",
    "    results.show()"
   ]
  }
 ],
 "metadata": {
  "accelerator": "GPU",
  "colab": {
   "gpuType": "T4",
   "provenance": []
  },
  "kaggle": {
   "accelerator": "gpu",
   "dataSources": [],
   "isGpuEnabled": true,
   "isInternetEnabled": true,
   "language": "python",
   "sourceType": "notebook"
  },
  "kernelspec": {
   "display_name": "py3.11",
   "language": "python",
   "name": "python3"
  },
  "language_info": {
   "codemirror_mode": {
    "name": "ipython",
    "version": 3
   },
   "file_extension": ".py",
   "mimetype": "text/x-python",
   "name": "python",
   "nbconvert_exporter": "python",
   "pygments_lexer": "ipython3",
   "version": "3.11.14"
  },
  "papermill": {
   "default_parameters": {},
   "duration": 7204.118513,
   "end_time": "2025-03-29T06:31:18.126267",
   "environment_variables": {},
   "exception": null,
   "input_path": "__notebook__.ipynb",
   "output_path": "__notebook__.ipynb",
   "parameters": {},
   "start_time": "2025-03-29T04:31:14.007754",
   "version": "2.6.0"
  },
  "widgets": {
   "application/vnd.jupyter.widget-state+json": {
    "038697e9de3547d4bfe12fc9bdeb0116": {
     "model_module": "@jupyter-widgets/controls",
     "model_module_version": "1.5.0",
     "model_name": "DescriptionStyleModel",
     "state": {
      "_model_module": "@jupyter-widgets/controls",
      "_model_module_version": "1.5.0",
      "_model_name": "DescriptionStyleModel",
      "_view_count": null,
      "_view_module": "@jupyter-widgets/base",
      "_view_module_version": "1.2.0",
      "_view_name": "StyleView",
      "description_width": ""
     }
    },
    "0fac7fd6db2d4c7eaa274651118f8772": {
     "model_module": "@jupyter-widgets/base",
     "model_module_version": "1.2.0",
     "model_name": "LayoutModel",
     "state": {
      "_model_module": "@jupyter-widgets/base",
      "_model_module_version": "1.2.0",
      "_model_name": "LayoutModel",
      "_view_count": null,
      "_view_module": "@jupyter-widgets/base",
      "_view_module_version": "1.2.0",
      "_view_name": "LayoutView",
      "align_content": null,
      "align_items": null,
      "align_self": null,
      "border": null,
      "bottom": null,
      "display": null,
      "flex": null,
      "flex_flow": null,
      "grid_area": null,
      "grid_auto_columns": null,
      "grid_auto_flow": null,
      "grid_auto_rows": null,
      "grid_column": null,
      "grid_gap": null,
      "grid_row": null,
      "grid_template_areas": null,
      "grid_template_columns": null,
      "grid_template_rows": null,
      "height": null,
      "justify_content": null,
      "justify_items": null,
      "left": null,
      "margin": null,
      "max_height": null,
      "max_width": null,
      "min_height": null,
      "min_width": null,
      "object_fit": null,
      "object_position": null,
      "order": null,
      "overflow": null,
      "overflow_x": null,
      "overflow_y": null,
      "padding": null,
      "right": null,
      "top": null,
      "visibility": null,
      "width": null
     }
    },
    "1c45eef81b9d45c285fb0c84fad39832": {
     "model_module": "@jupyter-widgets/controls",
     "model_module_version": "1.5.0",
     "model_name": "ProgressStyleModel",
     "state": {
      "_model_module": "@jupyter-widgets/controls",
      "_model_module_version": "1.5.0",
      "_model_name": "ProgressStyleModel",
      "_view_count": null,
      "_view_module": "@jupyter-widgets/base",
      "_view_module_version": "1.2.0",
      "_view_name": "StyleView",
      "bar_color": null,
      "description_width": ""
     }
    },
    "26080ba4d7bf44ff97072c8c469ac997": {
     "model_module": "@jupyter-widgets/base",
     "model_module_version": "1.2.0",
     "model_name": "LayoutModel",
     "state": {
      "_model_module": "@jupyter-widgets/base",
      "_model_module_version": "1.2.0",
      "_model_name": "LayoutModel",
      "_view_count": null,
      "_view_module": "@jupyter-widgets/base",
      "_view_module_version": "1.2.0",
      "_view_name": "LayoutView",
      "align_content": null,
      "align_items": null,
      "align_self": null,
      "border": null,
      "bottom": null,
      "display": null,
      "flex": null,
      "flex_flow": null,
      "grid_area": null,
      "grid_auto_columns": null,
      "grid_auto_flow": null,
      "grid_auto_rows": null,
      "grid_column": null,
      "grid_gap": null,
      "grid_row": null,
      "grid_template_areas": null,
      "grid_template_columns": null,
      "grid_template_rows": null,
      "height": null,
      "justify_content": null,
      "justify_items": null,
      "left": null,
      "margin": null,
      "max_height": null,
      "max_width": null,
      "min_height": null,
      "min_width": null,
      "object_fit": null,
      "object_position": null,
      "order": null,
      "overflow": null,
      "overflow_x": null,
      "overflow_y": null,
      "padding": null,
      "right": null,
      "top": null,
      "visibility": null,
      "width": null
     }
    },
    "76e7379985a34019984e2a4d70f6424c": {
     "model_module": "@jupyter-widgets/base",
     "model_module_version": "1.2.0",
     "model_name": "LayoutModel",
     "state": {
      "_model_module": "@jupyter-widgets/base",
      "_model_module_version": "1.2.0",
      "_model_name": "LayoutModel",
      "_view_count": null,
      "_view_module": "@jupyter-widgets/base",
      "_view_module_version": "1.2.0",
      "_view_name": "LayoutView",
      "align_content": null,
      "align_items": null,
      "align_self": null,
      "border": null,
      "bottom": null,
      "display": null,
      "flex": null,
      "flex_flow": null,
      "grid_area": null,
      "grid_auto_columns": null,
      "grid_auto_flow": null,
      "grid_auto_rows": null,
      "grid_column": null,
      "grid_gap": null,
      "grid_row": null,
      "grid_template_areas": null,
      "grid_template_columns": null,
      "grid_template_rows": null,
      "height": null,
      "justify_content": null,
      "justify_items": null,
      "left": null,
      "margin": null,
      "max_height": null,
      "max_width": null,
      "min_height": null,
      "min_width": null,
      "object_fit": null,
      "object_position": null,
      "order": null,
      "overflow": null,
      "overflow_x": null,
      "overflow_y": null,
      "padding": null,
      "right": null,
      "top": null,
      "visibility": null,
      "width": null
     }
    },
    "8835f06d816646e386a16e1cb4d7754d": {
     "model_module": "@jupyter-widgets/controls",
     "model_module_version": "1.5.0",
     "model_name": "HBoxModel",
     "state": {
      "_dom_classes": [],
      "_model_module": "@jupyter-widgets/controls",
      "_model_module_version": "1.5.0",
      "_model_name": "HBoxModel",
      "_view_count": null,
      "_view_module": "@jupyter-widgets/controls",
      "_view_module_version": "1.5.0",
      "_view_name": "HBoxView",
      "box_style": "",
      "children": [
       "IPY_MODEL_cadc7ca462494a988929ecb80e5426d6",
       "IPY_MODEL_baa11ccf81194fe38af8ea58bf4aca76",
       "IPY_MODEL_fbc1265b4a7e43e9b2c4f285330b5000"
      ],
      "layout": "IPY_MODEL_76e7379985a34019984e2a4d70f6424c"
     }
    },
    "a1d7edbf8b5543e9bffbe2bdaf774374": {
     "model_module": "@jupyter-widgets/base",
     "model_module_version": "1.2.0",
     "model_name": "LayoutModel",
     "state": {
      "_model_module": "@jupyter-widgets/base",
      "_model_module_version": "1.2.0",
      "_model_name": "LayoutModel",
      "_view_count": null,
      "_view_module": "@jupyter-widgets/base",
      "_view_module_version": "1.2.0",
      "_view_name": "LayoutView",
      "align_content": null,
      "align_items": null,
      "align_self": null,
      "border": null,
      "bottom": null,
      "display": null,
      "flex": null,
      "flex_flow": null,
      "grid_area": null,
      "grid_auto_columns": null,
      "grid_auto_flow": null,
      "grid_auto_rows": null,
      "grid_column": null,
      "grid_gap": null,
      "grid_row": null,
      "grid_template_areas": null,
      "grid_template_columns": null,
      "grid_template_rows": null,
      "height": null,
      "justify_content": null,
      "justify_items": null,
      "left": null,
      "margin": null,
      "max_height": null,
      "max_width": null,
      "min_height": null,
      "min_width": null,
      "object_fit": null,
      "object_position": null,
      "order": null,
      "overflow": null,
      "overflow_x": null,
      "overflow_y": null,
      "padding": null,
      "right": null,
      "top": null,
      "visibility": null,
      "width": null
     }
    },
    "baa11ccf81194fe38af8ea58bf4aca76": {
     "model_module": "@jupyter-widgets/controls",
     "model_module_version": "1.5.0",
     "model_name": "FloatProgressModel",
     "state": {
      "_dom_classes": [],
      "_model_module": "@jupyter-widgets/controls",
      "_model_module_version": "1.5.0",
      "_model_name": "FloatProgressModel",
      "_view_count": null,
      "_view_module": "@jupyter-widgets/controls",
      "_view_module_version": "1.5.0",
      "_view_name": "ProgressView",
      "bar_style": "success",
      "description": "",
      "description_tooltip": null,
      "layout": "IPY_MODEL_a1d7edbf8b5543e9bffbe2bdaf774374",
      "max": 7041638232,
      "min": 0,
      "orientation": "horizontal",
      "style": "IPY_MODEL_1c45eef81b9d45c285fb0c84fad39832",
      "value": 7041638232
     }
    },
    "cadc7ca462494a988929ecb80e5426d6": {
     "model_module": "@jupyter-widgets/controls",
     "model_module_version": "1.5.0",
     "model_name": "HTMLModel",
     "state": {
      "_dom_classes": [],
      "_model_module": "@jupyter-widgets/controls",
      "_model_module_version": "1.5.0",
      "_model_name": "HTMLModel",
      "_view_count": null,
      "_view_module": "@jupyter-widgets/controls",
      "_view_module_version": "1.5.0",
      "_view_name": "HTMLView",
      "description": "",
      "description_tooltip": null,
      "layout": "IPY_MODEL_0fac7fd6db2d4c7eaa274651118f8772",
      "placeholder": "​",
      "style": "IPY_MODEL_038697e9de3547d4bfe12fc9bdeb0116",
      "value": "balanced_dataset.zip: 100%"
     }
    },
    "cbbacf5c25ba45a4a003412626e579ee": {
     "model_module": "@jupyter-widgets/controls",
     "model_module_version": "1.5.0",
     "model_name": "DescriptionStyleModel",
     "state": {
      "_model_module": "@jupyter-widgets/controls",
      "_model_module_version": "1.5.0",
      "_model_name": "DescriptionStyleModel",
      "_view_count": null,
      "_view_module": "@jupyter-widgets/base",
      "_view_module_version": "1.2.0",
      "_view_name": "StyleView",
      "description_width": ""
     }
    },
    "fbc1265b4a7e43e9b2c4f285330b5000": {
     "model_module": "@jupyter-widgets/controls",
     "model_module_version": "1.5.0",
     "model_name": "HTMLModel",
     "state": {
      "_dom_classes": [],
      "_model_module": "@jupyter-widgets/controls",
      "_model_module_version": "1.5.0",
      "_model_name": "HTMLModel",
      "_view_count": null,
      "_view_module": "@jupyter-widgets/controls",
      "_view_module_version": "1.5.0",
      "_view_name": "HTMLView",
      "description": "",
      "description_tooltip": null,
      "layout": "IPY_MODEL_26080ba4d7bf44ff97072c8c469ac997",
      "placeholder": "​",
      "style": "IPY_MODEL_cbbacf5c25ba45a4a003412626e579ee",
      "value": " 7.04G/7.04G [01:49&lt;00:00, 77.7MB/s]"
     }
    }
   }
  }
 },
 "nbformat": 4,
 "nbformat_minor": 5
}
